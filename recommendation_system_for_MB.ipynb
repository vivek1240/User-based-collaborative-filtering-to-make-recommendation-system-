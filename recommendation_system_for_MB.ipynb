{
 "cells": [
  {
   "cell_type": "markdown",
   "metadata": {},
   "source": [
    "# User based collaborative filtering to make recommendtaion system "
   ]
  },
  {
   "cell_type": "markdown",
   "metadata": {},
   "source": [
    "## Recommendation System — Use of Collaborative Filtering and Hybrid Collaborative — Content in Retail using LightFM library on Market basket dataset"
   ]
  },
  {
   "cell_type": "markdown",
   "metadata": {},
   "source": [
    " The \"user-item interaction matrix\" defines the interaction between the user (customer) to the item (product), and in the reatail case we take \n",
    "“number of purchases” as the rating. \n",
    "EG:  If a customer A bought product B 10 times, then we can say customer A rated product B with rating 10. You can also take into account binary ratings where 1 refers to customer A had bought or 0 as had never bought product B."
   ]
  },
  {
   "cell_type": "markdown",
   "metadata": {},
   "source": [
    "The \"item-feature interaction matrix\" defines the features of the items. Item to features can be represented as a product to its metadata such as the product’s category, sub-category, or even any pieces of information."
   ]
  },
  {
   "cell_type": "code",
   "execution_count": 87,
   "metadata": {},
   "outputs": [],
   "source": [
    "import pandas as pd # pandas for data manipulation\n",
    "import numpy as np # numpy for sure\n",
    "from scipy.sparse import coo_matrix # for constructing sparse matrix\n",
    "# lightfm \n",
    "from lightfm import LightFM # model\n",
    "from lightfm.evaluation import auc_score\n",
    "# timing\n",
    "import time"
   ]
  },
  {
   "cell_type": "markdown",
   "metadata": {},
   "source": [
    "### Importing data"
   ]
  },
  {
   "cell_type": "code",
   "execution_count": 12,
   "metadata": {},
   "outputs": [],
   "source": [
    "#IMPORTING DATA\n",
    "maret_basket_analysis = pd.read_csv (r'H:\\intern_lovelocal\\ML_Project\\store_product_orders_data_modified.csv')\n",
    "maret_basket_analysis= maret_basket_analysis[['customer_id','product_name','product_category_name']] #Taking required columns"
   ]
  },
  {
   "cell_type": "code",
   "execution_count": 88,
   "metadata": {},
   "outputs": [
    {
     "data": {
      "text/html": [
       "<div>\n",
       "<style scoped>\n",
       "    .dataframe tbody tr th:only-of-type {\n",
       "        vertical-align: middle;\n",
       "    }\n",
       "\n",
       "    .dataframe tbody tr th {\n",
       "        vertical-align: top;\n",
       "    }\n",
       "\n",
       "    .dataframe thead th {\n",
       "        text-align: right;\n",
       "    }\n",
       "</style>\n",
       "<table border=\"1\" class=\"dataframe\">\n",
       "  <thead>\n",
       "    <tr style=\"text-align: right;\">\n",
       "      <th></th>\n",
       "      <th>customer_id</th>\n",
       "      <th>product_name</th>\n",
       "      <th>product_category_name</th>\n",
       "    </tr>\n",
       "  </thead>\n",
       "  <tbody>\n",
       "    <tr>\n",
       "      <td>0</td>\n",
       "      <td>4941c8cacc20474cae212b33518e1fe5</td>\n",
       "      <td>Gemini Refined Sunflower Oil Jar (5 L)</td>\n",
       "      <td>Edible Oils &amp; Ghee</td>\n",
       "    </tr>\n",
       "    <tr>\n",
       "      <td>1</td>\n",
       "      <td>4941c8cacc20474cae212b33518e1fe5</td>\n",
       "      <td>Aashirvaad Superior MP Atta (1 kg)</td>\n",
       "      <td>Foodgrains, Oil &amp; Masala</td>\n",
       "    </tr>\n",
       "    <tr>\n",
       "      <td>2</td>\n",
       "      <td>4b8e778049aa4801b33978eba68e863d</td>\n",
       "      <td>Mix Dryfruits 500 Gm</td>\n",
       "      <td>Rice &amp; Rice Products</td>\n",
       "    </tr>\n",
       "    <tr>\n",
       "      <td>3</td>\n",
       "      <td>4e5cbd6b7660492286cf5934a651384d</td>\n",
       "      <td>McCain Smiles (1.25 kg)</td>\n",
       "      <td>Dairy</td>\n",
       "    </tr>\n",
       "    <tr>\n",
       "      <td>4</td>\n",
       "      <td>4e5cbd6b7660492286cf5934a651384d</td>\n",
       "      <td>Svt Amla Fizz 300Ml</td>\n",
       "      <td>Beverages</td>\n",
       "    </tr>\n",
       "  </tbody>\n",
       "</table>\n",
       "</div>"
      ],
      "text/plain": [
       "                        customer_id                            product_name  \\\n",
       "0  4941c8cacc20474cae212b33518e1fe5  Gemini Refined Sunflower Oil Jar (5 L)   \n",
       "1  4941c8cacc20474cae212b33518e1fe5      Aashirvaad Superior MP Atta (1 kg)   \n",
       "2  4b8e778049aa4801b33978eba68e863d                    Mix Dryfruits 500 Gm   \n",
       "3  4e5cbd6b7660492286cf5934a651384d                 McCain Smiles (1.25 kg)   \n",
       "4  4e5cbd6b7660492286cf5934a651384d                     Svt Amla Fizz 300Ml   \n",
       "\n",
       "      product_category_name  \n",
       "0        Edible Oils & Ghee  \n",
       "1  Foodgrains, Oil & Masala  \n",
       "2      Rice & Rice Products  \n",
       "3                     Dairy  \n",
       "4                 Beverages  "
      ]
     },
     "execution_count": 88,
     "metadata": {},
     "output_type": "execute_result"
    }
   ],
   "source": [
    "maret_basket_analysis.head()"
   ]
  },
  {
   "cell_type": "code",
   "execution_count": 22,
   "metadata": {},
   "outputs": [
    {
     "data": {
      "text/plain": [
       "83895"
      ]
     },
     "execution_count": 22,
     "metadata": {},
     "output_type": "execute_result"
    }
   ],
   "source": [
    "len(maret_basket_analysis)"
   ]
  },
  {
   "cell_type": "markdown",
   "metadata": {},
   "source": [
    "## Data preparation for LightFM library"
   ]
  },
  {
   "cell_type": "markdown",
   "metadata": {},
   "source": [
    "### Users         (unique customer_id list)\n",
    "### Items         (all unique product names list)\n",
    "### Features      (all unique product name category)"
   ]
  },
  {
   "cell_type": "code",
   "execution_count": 165,
   "metadata": {},
   "outputs": [],
   "source": [
    "users= np.sort(maret_basket_analysis['customer_id'].unique())\n",
    "items= np.sort(maret_basket_analysis['product_name'].unique())\n",
    "features= np.sort(maret_basket_analysis['product_category_name'].unique())"
   ]
  },
  {
   "cell_type": "code",
   "execution_count": 166,
   "metadata": {},
   "outputs": [
    {
     "data": {
      "text/plain": [
       "array(['0001370ecc044bbdaf598d8c229fe42b',\n",
       "       '00017f22595b4f3a9ad38570d84565c0',\n",
       "       '0005748202924e7ab74ea337c738dc27', ...,\n",
       "       'fff9f95e83bd4ef5929f9fb2e073dabf',\n",
       "       'fffb8874765c4e2a8ded950640209564',\n",
       "       'ffff5d4c654541dbb2d9aa8643f14480'], dtype=object)"
      ]
     },
     "execution_count": 166,
     "metadata": {},
     "output_type": "execute_result"
    }
   ],
   "source": [
    "users"
   ]
  },
  {
   "cell_type": "code",
   "execution_count": 167,
   "metadata": {},
   "outputs": [
    {
     "data": {
      "text/plain": [
       "array(['\\t Whisper Choic Ultra Xl (6 pads)', ' GOWARDHAN PANEER1 PC',\n",
       "       ' Glucon D Energy Drink Pure Glucose Tangy Orange (100 g)', ...,\n",
       "       'vegge', 'vim bar 4x120g=480g', 'vim gel(155 ml)'], dtype=object)"
      ]
     },
     "execution_count": 167,
     "metadata": {},
     "output_type": "execute_result"
    }
   ],
   "source": [
    "items"
   ]
  },
  {
   "cell_type": "code",
   "execution_count": 168,
   "metadata": {},
   "outputs": [
    {
     "data": {
      "text/plain": [
       "array(['APP EXCLUSIVE DEALS', 'All Purpose Cleaners', 'All products',\n",
       "       'Antiseptics & Bandages', 'Appliances', 'Appliances & Electricals',\n",
       "       'Atta, Flours & Sooji', 'Baby Care', 'Baby Food & Formula',\n",
       "       'Bakery Snacks', 'Bakery, Cakes & Dairy', 'Bath',\n",
       "       'Bath & Hand Wash', 'Bath & Shower', 'Beauty & Hygiene',\n",
       "       'Beverages', 'Bins & Bathroom Ware', 'Biscuits & Cookies', 'Body',\n",
       "       'Breads & Buns', 'Breakfast Cereals', 'Burger Pizza and Pasta',\n",
       "       'Cakes & Pastries', 'Car & Shoe Care', 'Cereals & Breakfast',\n",
       "       \"Children's Day Special\", 'Chinese', 'Chips & Corn Snacks',\n",
       "       'Chocolates', 'Chocolates & Biscuits', 'Chocolates & Candies',\n",
       "       'Cleaning & Household', 'Coffee', 'Combos and Meals',\n",
       "       'Cookies, Rusk & Khari', 'Cooking & Baking Needs',\n",
       "       'Cookware & Non Stick', 'Cuts & Sprouts', 'Dairy',\n",
       "       'Dairy & Cheese', 'Dals & Pulses', 'Dental Care',\n",
       "       'Detergents & Dishwash', 'Disposables, Garbage Bag',\n",
       "       'Diwali Special', 'Drinks Beverages', 'Drinks Beverages Shakes',\n",
       "       'Dry Fruit', 'Edible Oils & Ghee', 'Eggs', 'Eggs, Meat & Fish',\n",
       "       'Energy & Soft Drinks', 'Everyday Medicine',\n",
       "       'Exotic Fruits & Veggies', 'Eye Care', 'Face', 'Face/Skin Tools',\n",
       "       'Feminine Hygiene', 'Feminine Hygine', 'Fish & Seafood',\n",
       "       'Foodgrains, Oil & Masala', 'Fragrance', 'Fragrances & Deos',\n",
       "       'Fresh Fruits', 'Fresh Vegetables', 'Fresheners & Repellents',\n",
       "       'Frozen Veggies & Snacks', 'Fruit Juices & Drinks',\n",
       "       'Fruits & Vegetables ', 'General Medicine', 'Ghee & Vanaspati',\n",
       "       'Glucose & Milk Biscuits', 'Gourmet & World Food', 'Hair Care',\n",
       "       'Hair Styling Tools', 'Hands & Feet', 'Health & Medicine',\n",
       "       'Health Drink, Supplement', 'Herbs & Seasonings',\n",
       "       'Herbs, Seasonings & Rubs', 'Home & Health', 'Home Services',\n",
       "       'Ice Creams & Desserts', 'Indian Breads', 'Indian Mithai',\n",
       "       'Insect Repellents', 'Juices', 'Kitchen Accessories',\n",
       "       'Kitchen, Garden & Pets', 'Laundry', 'Lotions & Creams', 'Make Up',\n",
       "       'Makeup', 'Masalas & Spices', 'Men', \"Men's Grooming\", 'Milk',\n",
       "       'Mops, Brushes & Scrubs', 'Mukhwas', 'Noodle, Pasta, Vermicelli',\n",
       "       'Oils & Vinegar', 'Oral Care', 'Organic Fruits & Vegetables',\n",
       "       'Organic Staples', 'Others', 'Party & Festive Needs',\n",
       "       'Pasta, Soup & Noodles', 'Personal Care  ',\n",
       "       'Pet Food & Accessories', 'Pickles & Chutney', 'Pooja Needs',\n",
       "       'Potato, Onion & Tomato', 'Poultry', 'Ready To Cook & Eat',\n",
       "       'Ready To Eat & Frozen Food', 'Rice', 'Rice & Rice Products',\n",
       "       'Sabzi and Dal', 'Salt, Sugar & Jaggery', 'Sauces, Spreads & Dips',\n",
       "       'Shaving Tools', 'Skin', 'Skin Care', 'Snacks',\n",
       "       'Snacks & Branded Foods', 'Snacks & Namkeen',\n",
       "       'Snacks, Dry Fruits, Nuts', 'Soups', 'Spreads, Sauces, Ketchup',\n",
       "       'Stationery', 'Supplements & Proteins', 'Tea',\n",
       "       'Tinned & Processed Food', 'Tools and Accessories',\n",
       "       'Trending Searches', 'Upwas Special', 'Water', 'Women'],\n",
       "      dtype=object)"
      ]
     },
     "execution_count": 168,
     "metadata": {},
     "output_type": "execute_result"
    }
   ],
   "source": [
    "features"
   ]
  },
  {
   "cell_type": "markdown",
   "metadata": {},
   "source": [
    "### 1. Customers/users mapping \n",
    "### user_id, product_name, product_count\n",
    "### user to product rating (user_id with the count of the products baught)"
   ]
  },
  {
   "cell_type": "code",
   "execution_count": 89,
   "metadata": {},
   "outputs": [
    {
     "data": {
      "text/html": [
       "<div>\n",
       "<style scoped>\n",
       "    .dataframe tbody tr th:only-of-type {\n",
       "        vertical-align: middle;\n",
       "    }\n",
       "\n",
       "    .dataframe tbody tr th {\n",
       "        vertical-align: top;\n",
       "    }\n",
       "\n",
       "    .dataframe thead th {\n",
       "        text-align: right;\n",
       "    }\n",
       "</style>\n",
       "<table border=\"1\" class=\"dataframe\">\n",
       "  <thead>\n",
       "    <tr style=\"text-align: right;\">\n",
       "      <th></th>\n",
       "      <th>user_id</th>\n",
       "      <th>product_name</th>\n",
       "      <th>product_count</th>\n",
       "    </tr>\n",
       "  </thead>\n",
       "  <tbody>\n",
       "    <tr>\n",
       "      <td>0</td>\n",
       "      <td>552fac652e2e4a469e48df9f86e845bb</td>\n",
       "      <td>Potato</td>\n",
       "      <td>43</td>\n",
       "    </tr>\n",
       "    <tr>\n",
       "      <td>1</td>\n",
       "      <td>552fac652e2e4a469e48df9f86e845bb</td>\n",
       "      <td>Tomato</td>\n",
       "      <td>41</td>\n",
       "    </tr>\n",
       "    <tr>\n",
       "      <td>2</td>\n",
       "      <td>552fac652e2e4a469e48df9f86e845bb</td>\n",
       "      <td>Lady Finger</td>\n",
       "      <td>34</td>\n",
       "    </tr>\n",
       "    <tr>\n",
       "      <td>3</td>\n",
       "      <td>552fac652e2e4a469e48df9f86e845bb</td>\n",
       "      <td>Onion</td>\n",
       "      <td>34</td>\n",
       "    </tr>\n",
       "    <tr>\n",
       "      <td>4</td>\n",
       "      <td>43a1871f2529414eb16cc4b9fd456edd</td>\n",
       "      <td>Colgate Toothbrush Zig Zag Black (1 pc)</td>\n",
       "      <td>32</td>\n",
       "    </tr>\n",
       "  </tbody>\n",
       "</table>\n",
       "</div>"
      ],
      "text/plain": [
       "                            user_id                             product_name  \\\n",
       "0  552fac652e2e4a469e48df9f86e845bb                                   Potato   \n",
       "1  552fac652e2e4a469e48df9f86e845bb                                   Tomato   \n",
       "2  552fac652e2e4a469e48df9f86e845bb                              Lady Finger   \n",
       "3  552fac652e2e4a469e48df9f86e845bb                                    Onion   \n",
       "4  43a1871f2529414eb16cc4b9fd456edd  Colgate Toothbrush Zig Zag Black (1 pc)   \n",
       "\n",
       "   product_count  \n",
       "0             43  \n",
       "1             41  \n",
       "2             34  \n",
       "3             34  \n",
       "4             32  "
      ]
     },
     "execution_count": 89,
     "metadata": {},
     "output_type": "execute_result"
    }
   ],
   "source": [
    "user_to_product_rating = maret_basket_analysis.pivot_table(index=['customer_id','product_name'], aggfunc='size').sort_values(ascending= False)\n",
    "#Converting from series to dataframe\n",
    "user_to_product_rating = user_to_product_rating.to_frame()\n",
    "#NAming third column\n",
    "user_to_product_rating = user_to_product_rating.rename(columns = {0: \"product_count\"})\n",
    "#Setting the Index\n",
    "user_to_product_rating.reset_index(inplace= True)\n",
    "user_to_product_rating = user_to_product_rating.rename(columns = {'customer_id':\"user_id\"})\n",
    "user_to_product_rating.head()\n"
   ]
  },
  {
   "cell_type": "markdown",
   "metadata": {},
   "source": [
    "### Splitting the data set into train and test data"
   ]
  },
  {
   "cell_type": "code",
   "execution_count": 91,
   "metadata": {},
   "outputs": [],
   "source": [
    "from sklearn.model_selection import train_test_split\n",
    "# create training and testing vars\n",
    "user_to_product_rating_train, user_to_product_rating_test = train_test_split(user_to_product_rating, test_size=0.2)"
   ]
  },
  {
   "cell_type": "markdown",
   "metadata": {},
   "source": [
    "###  2.  product category name(fearture) mapping "
   ]
  },
  {
   "cell_type": "code",
   "execution_count": 92,
   "metadata": {},
   "outputs": [
    {
     "data": {
      "text/html": [
       "<div>\n",
       "<style scoped>\n",
       "    .dataframe tbody tr th:only-of-type {\n",
       "        vertical-align: middle;\n",
       "    }\n",
       "\n",
       "    .dataframe tbody tr th {\n",
       "        vertical-align: top;\n",
       "    }\n",
       "\n",
       "    .dataframe thead th {\n",
       "        text-align: right;\n",
       "    }\n",
       "</style>\n",
       "<table border=\"1\" class=\"dataframe\">\n",
       "  <thead>\n",
       "    <tr style=\"text-align: right;\">\n",
       "      <th></th>\n",
       "      <th>product_name</th>\n",
       "      <th>feature</th>\n",
       "      <th>feature_count</th>\n",
       "    </tr>\n",
       "  </thead>\n",
       "  <tbody>\n",
       "    <tr>\n",
       "      <td>0</td>\n",
       "      <td>Sugar (1 kg)</td>\n",
       "      <td>Salt, Sugar &amp; Jaggery</td>\n",
       "      <td>2168</td>\n",
       "    </tr>\n",
       "    <tr>\n",
       "      <td>1</td>\n",
       "      <td>Tata Salt (1kg)</td>\n",
       "      <td>Salt, Sugar &amp; Jaggery</td>\n",
       "      <td>633</td>\n",
       "    </tr>\n",
       "    <tr>\n",
       "      <td>2</td>\n",
       "      <td>Toor Dal (1 kg)</td>\n",
       "      <td>Dals &amp; Pulses</td>\n",
       "      <td>620</td>\n",
       "    </tr>\n",
       "    <tr>\n",
       "      <td>3</td>\n",
       "      <td>Onion</td>\n",
       "      <td>Fresh Vegetables</td>\n",
       "      <td>577</td>\n",
       "    </tr>\n",
       "    <tr>\n",
       "      <td>4</td>\n",
       "      <td>Red Potato</td>\n",
       "      <td>Fresh Vegetables</td>\n",
       "      <td>456</td>\n",
       "    </tr>\n",
       "  </tbody>\n",
       "</table>\n",
       "</div>"
      ],
      "text/plain": [
       "      product_name                feature  feature_count\n",
       "0     Sugar (1 kg)  Salt, Sugar & Jaggery           2168\n",
       "1  Tata Salt (1kg)  Salt, Sugar & Jaggery            633\n",
       "2  Toor Dal (1 kg)          Dals & Pulses            620\n",
       "3            Onion       Fresh Vegetables            577\n",
       "4       Red Potato       Fresh Vegetables            456"
      ]
     },
     "execution_count": 92,
     "metadata": {},
     "output_type": "execute_result"
    }
   ],
   "source": [
    "product_to_feature = maret_basket_analysis.pivot_table(index=['product_name','product_category_name'], aggfunc='size').sort_values(ascending= False)\n",
    "#Converting from series to dataframe\n",
    "product_to_feature = product_to_feature.to_frame()\n",
    "#NAming third column\n",
    "product_to_feature = product_to_feature.rename(columns = {0: \"feature_count\",'product_category_name':\"feature\"})\n",
    "#Setting the Index\n",
    "product_to_feature.reset_index(inplace= True)\n",
    "product_to_feature = product_to_feature.rename(columns = {'product_category_name':\"feature\"})\n",
    "product_to_feature.head()\n"
   ]
  },
  {
   "cell_type": "markdown",
   "metadata": {},
   "source": [
    "## Helper functions"
   ]
  },
  {
   "cell_type": "markdown",
   "metadata": {},
   "source": [
    "###  To generate mapping, LightFM library can't read other than (integer) index hence converting them to integers"
   ]
  },
  {
   "cell_type": "code",
   "execution_count": 93,
   "metadata": {},
   "outputs": [],
   "source": [
    "def id_mappings(user_list, item_list, feature_list):\n",
    "    \"\"\"\n",
    "    \n",
    "    Create id mappings to convert user_id, item_id, and feature_id\n",
    "    \n",
    "    \"\"\"\n",
    "    user_to_index_mapping = {}\n",
    "    index_to_user_mapping = {}\n",
    "    for user_index, user_id in enumerate(user_list):\n",
    "        user_to_index_mapping[user_id] = user_index\n",
    "        index_to_user_mapping[user_index] = user_id\n",
    "        \n",
    "    item_to_index_mapping = {}\n",
    "    index_to_item_mapping = {}\n",
    "    for item_index, item_id in enumerate(item_list):\n",
    "        item_to_index_mapping[item_id] = item_index\n",
    "        index_to_item_mapping[item_index] = item_id\n",
    "        \n",
    "    feature_to_index_mapping = {}\n",
    "    index_to_feature_mapping = {}\n",
    "    for feature_index, feature_id in enumerate(feature_list):\n",
    "        feature_to_index_mapping[feature_id] = feature_index\n",
    "        index_to_feature_mapping[feature_index] = feature_id\n",
    "        \n",
    "        \n",
    "    return user_to_index_mapping, index_to_user_mapping, \\\n",
    "           item_to_index_mapping, index_to_item_mapping, \\\n",
    "           feature_to_index_mapping, index_to_feature_mapping\n"
   ]
  },
  {
   "cell_type": "markdown",
   "metadata": {},
   "source": [
    "### To calculate interaction matrix"
   ]
  },
  {
   "cell_type": "code",
   "execution_count": 103,
   "metadata": {},
   "outputs": [],
   "source": [
    "def get_interaction_matrix(df, df_column_as_row, df_column_as_col, df_column_as_value, row_indexing_map, \n",
    "                          col_indexing_map):\n",
    "    \n",
    "    row = df[df_column_as_row].apply(lambda x: row_indexing_map[x]).values\n",
    "    col = df[df_column_as_col].apply(lambda x: col_indexing_map[x]).values\n",
    "    value = df[df_column_as_value].values\n",
    "    \n",
    "    return coo_matrix((value, (row, col)), shape = (len(row_indexing_map), len(col_indexing_map)))"
   ]
  },
  {
   "cell_type": "code",
   "execution_count": 104,
   "metadata": {},
   "outputs": [],
   "source": [
    "# generate user_item_interaction_matrix for train data\n",
    "user_to_product_interaction_train = get_interaction_matrix(user_to_product_rating_train, \"user_id\", \n",
    "                                                    \"product_name\", \"product_count\", user_to_index_mapping, item_to_index_mapping)\n",
    "\n",
    "# generate user_item_interaction_matrix for test data\n",
    "user_to_product_interaction_test = get_interaction_matrix(user_to_product_rating_test, \"user_id\", \n",
    "                                                    \"product_name\", \"product_count\", user_to_index_mapping, item_to_index_mapping)\n",
    "\n",
    "# generate item_to_feature interaction\n",
    "product_to_feature_interaction = get_interaction_matrix(product_to_feature, \"product_name\", \"feature\",  \"feature_count\", \n",
    "                                                        item_to_index_mapping, feature_to_index_mapping)"
   ]
  },
  {
   "cell_type": "markdown",
   "metadata": {},
   "source": [
    "## Applying LightFM Cross Validation"
   ]
  },
  {
   "cell_type": "markdown",
   "metadata": {},
   "source": [
    "using pure collaborative filtering, not adding some item features as consideration\n",
    "\n"
   ]
  },
  {
   "cell_type": "code",
   "execution_count": null,
   "metadata": {},
   "outputs": [],
   "source": [
    "# initialising model with warp loss function\n",
    "model_without_features = LightFM(loss = \"warp\")"
   ]
  },
  {
   "cell_type": "code",
   "execution_count": 105,
   "metadata": {},
   "outputs": [
    {
     "name": "stdout",
     "output_type": "stream",
     "text": [
      "time taken = 0.28 seconds\n",
      "time taken = 10.76 seconds\n",
      "average AUC without adding item-feature interaction = 0.75\n"
     ]
    }
   ],
   "source": [
    "# fitting into user to product interaction matrix only / pure collaborative filtering factor\n",
    "start = time.time()\n",
    "#===================\n",
    "\n",
    "model_without_features.fit(user_to_product_interaction_train,\n",
    "          user_features=None, \n",
    "          item_features=None, \n",
    "          sample_weight=None, \n",
    "          epochs=1, \n",
    "          num_threads=4,\n",
    "          verbose=False)\n",
    "\n",
    "#===================\n",
    "end = time.time()\n",
    "print(\"time taken = {0:.{1}f} seconds\".format(end - start, 2))\n",
    "\n",
    "# auc metric score (ranging from 0 to 1)\n",
    "\n",
    "start = time.time()\n",
    "#===================\n",
    "\n",
    "auc_without_features = auc_score(model = model_without_features, \n",
    "                        test_interactions = user_to_product_interaction_test,\n",
    "                        num_threads = 4, check_intersections = False)\n",
    "#===================\n",
    "end = time.time()\n",
    "\n",
    "print(\"time taken = {0:.{1}f} seconds\".format(end - start, 2))\n",
    "print(\"average AUC without adding item-feature interaction = {0:.{1}f}\".format(auc_without_features.mean(), 2))\n"
   ]
  },
  {
   "cell_type": "markdown",
   "metadata": {},
   "source": [
    "### The hybrid collaborative — content based by adding products/items and features interactions with the code below"
   ]
  },
  {
   "cell_type": "code",
   "execution_count": null,
   "metadata": {},
   "outputs": [],
   "source": [
    "# initialising model with warp loss function\n",
    "model_with_features = LightFM(loss = \"warp\")"
   ]
  },
  {
   "cell_type": "code",
   "execution_count": 130,
   "metadata": {},
   "outputs": [
    {
     "name": "stdout",
     "output_type": "stream",
     "text": [
      "time taken = 0.18 seconds\n",
      "time taken = 14.00 seconds\n",
      "average AUC without adding item-feature interaction = 0.64\n"
     ]
    }
   ],
   "source": [
    "# fitting the model with hybrid collaborative filtering + content based (product + features)\n",
    "start = time.time()\n",
    "#===================\n",
    "\n",
    "\n",
    "model_with_features.fit(user_to_product_interaction_train,\n",
    "          user_features=None, \n",
    "          item_features=product_to_feature_interaction, \n",
    "          sample_weight=None, \n",
    "          epochs=1, \n",
    "          num_threads=4,\n",
    "          verbose=False)\n",
    "\n",
    "#===================\n",
    "end = time.time()\n",
    "print(\"time taken = {0:.{1}f} seconds\".format(end - start, 2))\n",
    "\n",
    "start = time.time()\n",
    "#===================\n",
    "auc_with_features = auc_score(model = model_with_features, \n",
    "                        test_interactions = user_to_product_interaction_test,\n",
    "                        train_interactions = user_to_product_interaction_train, \n",
    "                        item_features = product_to_feature_interaction,\n",
    "                        num_threads = 4, check_intersections=False)\n",
    "#===================\n",
    "end = time.time()\n",
    "print(\"time taken = {0:.{1}f} seconds\".format(end - start, 2))\n",
    "\n",
    "print(\"average AUC without adding item-feature interaction = {0:.{1}f}\".format(auc_with_features.mean(), 2))\n"
   ]
  },
  {
   "cell_type": "markdown",
   "metadata": {},
   "source": [
    "### Requesting Products/Items Recommendation"
   ]
  },
  {
   "cell_type": "markdown",
   "metadata": {},
   "source": [
    "### We need to combine the train and the test dataset into one by combining through function below"
   ]
  },
  {
   "cell_type": "code",
   "execution_count": 131,
   "metadata": {},
   "outputs": [],
   "source": [
    "def combined_train_test(train, test):\n",
    "    \"\"\"\n",
    "    \n",
    "    test set is the more recent rating/number_of_order of users.\n",
    "    train set is the previous rating/number_of_order of users.\n",
    "    non-zero value in the test set will replace the elements in \n",
    "    the train set matrices\n",
    "    \"\"\"\n",
    "    # initialising train dict\n",
    "    train_dict = {}\n",
    "    for train_row, train_col, train_data in zip(train.row, train.col, train.data):\n",
    "        train_dict[(train_row, train_col)] = train_data\n",
    "        \n",
    "    # replacing with the test set\n",
    "    \n",
    "    for test_row, test_col, test_data in zip(test.row, test.col, test.data):\n",
    "        train_dict[(test_row, test_col)] = max(test_data, train_dict.get((test_row, test_col), 0))\n",
    "        \n",
    "    \n",
    "    # converting to the row\n",
    "    row_element = []\n",
    "    col_element = []\n",
    "    data_element = []\n",
    "    for row, col in train_dict:\n",
    "        row_element.append(row)\n",
    "        col_element.append(col)\n",
    "        data_element.append(train_dict[(row, col)])\n",
    "        \n",
    "    # converting to np array\n",
    "    \n",
    "    row_element = np.array(row_element)\n",
    "    col_element = np.array(col_element)\n",
    "    data_element = np.array(data_element)\n",
    "    \n",
    "    return coo_matrix((data_element, (row_element, col_element)), shape = (train.shape[0], train.shape[1]))\n"
   ]
  },
  {
   "cell_type": "markdown",
   "metadata": {},
   "source": [
    "### Creating a user to product interaction matrix\n"
   ]
  },
  {
   "cell_type": "code",
   "execution_count": 132,
   "metadata": {},
   "outputs": [],
   "source": [
    "user_to_product_interaction = combined_train_test(user_to_product_interaction_train, \n",
    "                                                 user_to_product_interaction_test)"
   ]
  },
  {
   "cell_type": "code",
   "execution_count": 133,
   "metadata": {},
   "outputs": [
    {
     "data": {
      "text/plain": [
       "<23281x15666 sparse matrix of type '<class 'numpy.float64'>'\n",
       "\twith 76180 stored elements in COOrdinate format>"
      ]
     },
     "execution_count": 133,
     "metadata": {},
     "output_type": "execute_result"
    }
   ],
   "source": [
    "user_to_product_interaction"
   ]
  },
  {
   "cell_type": "markdown",
   "metadata": {},
   "source": [
    "###  Retraining the final model with combined dataset(combining train and test dataset)\n",
    "### This time using pure collaborative filtering only cause its giving better accuracy than hybrid collaborative filtering\n"
   ]
  },
  {
   "cell_type": "code",
   "execution_count": 142,
   "metadata": {},
   "outputs": [
    {
     "name": "stdout",
     "output_type": "stream",
     "text": [
      "time taken = 0.35 seconds\n"
     ]
    }
   ],
   "source": [
    "# retraining the final model with combined dataset\n",
    "\n",
    "final_model = LightFM(loss = \"warp\")\n",
    "\n",
    "# fitting to combined dataset with pure collaborative filtering result\n",
    "\n",
    "start = time.time()\n",
    "#===================\n",
    "\n",
    "final_model.fit(user_to_product_interaction,\n",
    "          user_features=None, \n",
    "          item_features=None, \n",
    "          sample_weight=None, \n",
    "          epochs=1, \n",
    "          num_threads=4,\n",
    "          verbose=False)\n",
    "\n",
    "#===================\n",
    "end = time.time()\n",
    "print(\"time taken = {0:.{1}f} seconds\".format(end - start, 2))"
   ]
  },
  {
   "cell_type": "markdown",
   "metadata": {},
   "source": [
    "### Class to ask about recommendation\n"
   ]
  },
  {
   "cell_type": "code",
   "execution_count": 163,
   "metadata": {},
   "outputs": [],
   "source": [
    "class recommendation_sampling:\n",
    "    \n",
    "    def __init__(self, model, items = items, user_to_product_interaction_matrix = user_to_product_interaction, \n",
    "                user2index_map = user_to_index_mapping):\n",
    "        \n",
    "        self.user_to_product_interaction_matrix = user_to_product_interaction_matrix\n",
    "        self.model = model\n",
    "        self.items = items\n",
    "        self.user2index_map = user2index_map\n",
    "    \n",
    "    def recommendation_for_user(self, user):\n",
    "        \n",
    "        # getting the userindex\n",
    "        \n",
    "        userindex = self.user2index_map.get(user, None)\n",
    "        \n",
    "        if userindex == None:\n",
    "            return None\n",
    "        \n",
    "        users = [userindex]\n",
    "        \n",
    "        # products already bought\n",
    "        \n",
    "        known_positives = self.items[self.user_to_product_interaction_matrix.tocsr()[userindex].indices]\n",
    "        \n",
    "        # scores from model prediction\n",
    "        scores = self.model.predict(user_ids = users, item_ids = np.arange(self.user_to_product_interaction_matrix.shape[1]))\n",
    "        \n",
    "        # top items\n",
    "        \n",
    "        top_items = self.items[np.argsort(-scores)]\n",
    "        \n",
    "        # printing out the result\n",
    "        print(\"User %s\" % user)\n",
    "        print(\"     Known positives:\")\n",
    "        \n",
    "        for x in known_positives[:3]:\n",
    "            print(\"                  %s\" % x)\n",
    "            \n",
    "            \n",
    "        print(\"     Recommended:\")\n",
    "        \n",
    "        for x in top_items[:3]:\n",
    "            print(\"                  %s\" % x)\n",
    "            \n"
   ]
  },
  {
   "cell_type": "markdown",
   "metadata": {},
   "source": [
    "### Calling the recommendation for a random user from the dataset using the final model"
   ]
  },
  {
   "cell_type": "code",
   "execution_count": 164,
   "metadata": {},
   "outputs": [
    {
     "name": "stdout",
     "output_type": "stream",
     "text": [
      "User 742b67e06d144247a2b34befcc716e66\n",
      "     Known positives:\n",
      "                  BADAM 250GM\n",
      "                  Nivia Black&White Deo 150Ml\n",
      "     Recommended:\n",
      "                  Sugar (1 kg)\n",
      "                  Tata Salt (1kg)\n",
      "                  Toor Dal (1 kg)\n"
     ]
    }
   ],
   "source": [
    "recom = recommendation_sampling(model = final_model)\n",
    "recom.recommendation_for_user('742b67e06d144247a2b34befcc716e66')"
   ]
  },
  {
   "cell_type": "code",
   "execution_count": null,
   "metadata": {},
   "outputs": [],
   "source": []
  }
 ],
 "metadata": {
  "kernelspec": {
   "display_name": "Python 3",
   "language": "python",
   "name": "python3"
  },
  "language_info": {
   "codemirror_mode": {
    "name": "ipython",
    "version": 3
   },
   "file_extension": ".py",
   "mimetype": "text/x-python",
   "name": "python",
   "nbconvert_exporter": "python",
   "pygments_lexer": "ipython3",
   "version": "3.7.4"
  }
 },
 "nbformat": 4,
 "nbformat_minor": 2
}
